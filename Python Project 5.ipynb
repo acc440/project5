{
  "nbformat": 4,
  "nbformat_minor": 0,
  "metadata": {
    "kernelspec": {
      "display_name": "Python 3",
      "language": "python",
      "name": "python3"
    },
    "language_info": {
      "codemirror_mode": {
        "name": "ipython",
        "version": 3
      },
      "file_extension": ".py",
      "mimetype": "text/x-python",
      "name": "python",
      "nbconvert_exporter": "python",
      "pygments_lexer": "ipython3",
      "version": "3.7.4"
    },
    "colab": {
      "name": "Python Project 5.ipynb",
      "provenance": [],
      "collapsed_sections": [],
      "toc_visible": true
    }
  },
  "cells": [
    {
      "cell_type": "code",
      "metadata": {
        "id": "mFtTZdEBSXWT",
        "colab_type": "code",
        "colab": {}
      },
      "source": [
        "import numpy as np\n",
        "import pandas as pd\n",
        "import matplotlib.pyplot as plt\n",
        "import seaborn as sns\n"
      ],
      "execution_count": 0,
      "outputs": []
    },
    {
      "cell_type": "markdown",
      "metadata": {
        "id": "q0DDL11gTM9A",
        "colab_type": "text"
      },
      "source": [
        "Here's the stuff that we need"
      ]
    },
    {
      "cell_type": "code",
      "metadata": {
        "id": "gu4YfVf_cUwu",
        "colab_type": "code",
        "colab": {}
      },
      "source": [
        "bigdata = pd.read_csv('https://raw.githubusercontent.com/acc440/project5/master/bigdata.csv?token=AO5O4XAW5AW6FYI6YE5MZZC6PGB5Y', parse_dates=['datadate'])"
      ],
      "execution_count": 0,
      "outputs": []
    },
    {
      "cell_type": "code",
      "metadata": {
        "id": "Ggg1l8fqc715",
        "colab_type": "code",
        "outputId": "c5e5c46c-1b33-4645-836c-00c6dbbc3c46",
        "colab": {
          "base_uri": "https://localhost:8080/",
          "height": 357
        }
      },
      "source": [
        "bigdata.info()"
      ],
      "execution_count": 3,
      "outputs": [
        {
          "output_type": "stream",
          "text": [
            "<class 'pandas.core.frame.DataFrame'>\n",
            "RangeIndex: 137966 entries, 0 to 137965\n",
            "Data columns (total 15 columns):\n",
            "gvkey       137966 non-null int64\n",
            "datadate    137966 non-null datetime64[ns]\n",
            "fyear       137966 non-null int64\n",
            "tic         137871 non-null object\n",
            "conm        137966 non-null object\n",
            "fyr         137966 non-null int64\n",
            "ap          111703 non-null float64\n",
            "at          112805 non-null float64\n",
            "che         112729 non-null float64\n",
            "invt        111205 non-null float64\n",
            "ni          112429 non-null float64\n",
            "ppegt       97676 non-null float64\n",
            "rect        111866 non-null float64\n",
            "revt        112377 non-null float64\n",
            "exchg       137871 non-null float64\n",
            "dtypes: datetime64[ns](1), float64(9), int64(3), object(2)\n",
            "memory usage: 15.8+ MB\n"
          ],
          "name": "stdout"
        }
      ]
    },
    {
      "cell_type": "code",
      "metadata": {
        "id": "QMhBTnaOdDKB",
        "colab_type": "code",
        "outputId": "d455c620-4e02-4d5c-86dc-102d344768d1",
        "colab": {
          "base_uri": "https://localhost:8080/",
          "height": 221
        }
      },
      "source": [
        "pd.to_datetime(bigdata['datadate'])"
      ],
      "execution_count": 4,
      "outputs": [
        {
          "output_type": "execute_result",
          "data": {
            "text/plain": [
              "0        1990-05-31\n",
              "1        1991-05-31\n",
              "2        1992-05-31\n",
              "3        1993-05-31\n",
              "4        1994-05-31\n",
              "            ...    \n",
              "137961   2016-12-31\n",
              "137962   2017-12-31\n",
              "137963   2018-12-31\n",
              "137964   2017-09-30\n",
              "137965   2018-09-30\n",
              "Name: datadate, Length: 137966, dtype: datetime64[ns]"
            ]
          },
          "metadata": {
            "tags": []
          },
          "execution_count": 4
        }
      ]
    },
    {
      "cell_type": "code",
      "metadata": {
        "id": "_k6tlvJZd3cu",
        "colab_type": "code",
        "outputId": "4fb6c50b-601f-4d9f-a611-f0ee6012b692",
        "colab": {
          "base_uri": "https://localhost:8080/",
          "height": 357
        }
      },
      "source": [
        "bigdata.info()"
      ],
      "execution_count": 5,
      "outputs": [
        {
          "output_type": "stream",
          "text": [
            "<class 'pandas.core.frame.DataFrame'>\n",
            "RangeIndex: 137966 entries, 0 to 137965\n",
            "Data columns (total 15 columns):\n",
            "gvkey       137966 non-null int64\n",
            "datadate    137966 non-null datetime64[ns]\n",
            "fyear       137966 non-null int64\n",
            "tic         137871 non-null object\n",
            "conm        137966 non-null object\n",
            "fyr         137966 non-null int64\n",
            "ap          111703 non-null float64\n",
            "at          112805 non-null float64\n",
            "che         112729 non-null float64\n",
            "invt        111205 non-null float64\n",
            "ni          112429 non-null float64\n",
            "ppegt       97676 non-null float64\n",
            "rect        111866 non-null float64\n",
            "revt        112377 non-null float64\n",
            "exchg       137871 non-null float64\n",
            "dtypes: datetime64[ns](1), float64(9), int64(3), object(2)\n",
            "memory usage: 15.8+ MB\n"
          ],
          "name": "stdout"
        }
      ]
    },
    {
      "cell_type": "code",
      "metadata": {
        "id": "eOGliqYnd_9r",
        "colab_type": "code",
        "colab": {
          "base_uri": "https://localhost:8080/",
          "height": 204
        },
        "outputId": "96649010-6729-4701-fa56-5d344b1c5a09"
      },
      "source": [
        "bigdata.head()"
      ],
      "execution_count": 6,
      "outputs": [
        {
          "output_type": "execute_result",
          "data": {
            "text/html": [
              "<div>\n",
              "<style scoped>\n",
              "    .dataframe tbody tr th:only-of-type {\n",
              "        vertical-align: middle;\n",
              "    }\n",
              "\n",
              "    .dataframe tbody tr th {\n",
              "        vertical-align: top;\n",
              "    }\n",
              "\n",
              "    .dataframe thead th {\n",
              "        text-align: right;\n",
              "    }\n",
              "</style>\n",
              "<table border=\"1\" class=\"dataframe\">\n",
              "  <thead>\n",
              "    <tr style=\"text-align: right;\">\n",
              "      <th></th>\n",
              "      <th>gvkey</th>\n",
              "      <th>datadate</th>\n",
              "      <th>fyear</th>\n",
              "      <th>tic</th>\n",
              "      <th>conm</th>\n",
              "      <th>fyr</th>\n",
              "      <th>ap</th>\n",
              "      <th>at</th>\n",
              "      <th>che</th>\n",
              "      <th>invt</th>\n",
              "      <th>ni</th>\n",
              "      <th>ppegt</th>\n",
              "      <th>rect</th>\n",
              "      <th>revt</th>\n",
              "      <th>exchg</th>\n",
              "    </tr>\n",
              "  </thead>\n",
              "  <tbody>\n",
              "    <tr>\n",
              "      <th>0</th>\n",
              "      <td>1004</td>\n",
              "      <td>1990-05-31</td>\n",
              "      <td>1989</td>\n",
              "      <td>AIR</td>\n",
              "      <td>AAR CORP</td>\n",
              "      <td>5</td>\n",
              "      <td>35.861</td>\n",
              "      <td>388.521</td>\n",
              "      <td>4.044</td>\n",
              "      <td>162.149</td>\n",
              "      <td>25.655</td>\n",
              "      <td>105.646</td>\n",
              "      <td>93.581</td>\n",
              "      <td>444.875</td>\n",
              "      <td>11.0</td>\n",
              "    </tr>\n",
              "    <tr>\n",
              "      <th>1</th>\n",
              "      <td>1004</td>\n",
              "      <td>1991-05-31</td>\n",
              "      <td>1990</td>\n",
              "      <td>AIR</td>\n",
              "      <td>AAR CORP</td>\n",
              "      <td>5</td>\n",
              "      <td>35.119</td>\n",
              "      <td>379.958</td>\n",
              "      <td>1.553</td>\n",
              "      <td>156.133</td>\n",
              "      <td>14.801</td>\n",
              "      <td>113.060</td>\n",
              "      <td>91.238</td>\n",
              "      <td>466.542</td>\n",
              "      <td>11.0</td>\n",
              "    </tr>\n",
              "    <tr>\n",
              "      <th>2</th>\n",
              "      <td>1004</td>\n",
              "      <td>1992-05-31</td>\n",
              "      <td>1991</td>\n",
              "      <td>AIR</td>\n",
              "      <td>AAR CORP</td>\n",
              "      <td>5</td>\n",
              "      <td>43.416</td>\n",
              "      <td>395.351</td>\n",
              "      <td>4.197</td>\n",
              "      <td>173.379</td>\n",
              "      <td>10.020</td>\n",
              "      <td>119.315</td>\n",
              "      <td>89.781</td>\n",
              "      <td>422.657</td>\n",
              "      <td>11.0</td>\n",
              "    </tr>\n",
              "    <tr>\n",
              "      <th>3</th>\n",
              "      <td>1004</td>\n",
              "      <td>1993-05-31</td>\n",
              "      <td>1992</td>\n",
              "      <td>AIR</td>\n",
              "      <td>AAR CORP</td>\n",
              "      <td>5</td>\n",
              "      <td>32.525</td>\n",
              "      <td>365.151</td>\n",
              "      <td>2.255</td>\n",
              "      <td>172.536</td>\n",
              "      <td>0.283</td>\n",
              "      <td>118.585</td>\n",
              "      <td>68.849</td>\n",
              "      <td>382.780</td>\n",
              "      <td>11.0</td>\n",
              "    </tr>\n",
              "    <tr>\n",
              "      <th>4</th>\n",
              "      <td>1004</td>\n",
              "      <td>1994-05-31</td>\n",
              "      <td>1993</td>\n",
              "      <td>AIR</td>\n",
              "      <td>AAR CORP</td>\n",
              "      <td>5</td>\n",
              "      <td>49.599</td>\n",
              "      <td>417.626</td>\n",
              "      <td>18.074</td>\n",
              "      <td>174.920</td>\n",
              "      <td>9.494</td>\n",
              "      <td>122.101</td>\n",
              "      <td>85.947</td>\n",
              "      <td>407.754</td>\n",
              "      <td>11.0</td>\n",
              "    </tr>\n",
              "  </tbody>\n",
              "</table>\n",
              "</div>"
            ],
            "text/plain": [
              "   gvkey   datadate  fyear  tic  ...    ppegt    rect     revt  exchg\n",
              "0   1004 1990-05-31   1989  AIR  ...  105.646  93.581  444.875   11.0\n",
              "1   1004 1991-05-31   1990  AIR  ...  113.060  91.238  466.542   11.0\n",
              "2   1004 1992-05-31   1991  AIR  ...  119.315  89.781  422.657   11.0\n",
              "3   1004 1993-05-31   1992  AIR  ...  118.585  68.849  382.780   11.0\n",
              "4   1004 1994-05-31   1993  AIR  ...  122.101  85.947  407.754   11.0\n",
              "\n",
              "[5 rows x 15 columns]"
            ]
          },
          "metadata": {
            "tags": []
          },
          "execution_count": 6
        }
      ]
    },
    {
      "cell_type": "markdown",
      "metadata": {
        "id": "_JfuisRagcT5",
        "colab_type": "text"
      },
      "source": [
        "Creating explanatory variables "
      ]
    },
    {
      "cell_type": "code",
      "metadata": {
        "id": "g7Hn-O4VcJAd",
        "colab_type": "code",
        "colab": {
          "base_uri": "https://localhost:8080/",
          "height": 309
        },
        "outputId": "7d9cee17-2a4b-41dd-e856-0ffd50dce03d"
      },
      "source": [
        "bigdata['scaled_cash'] = bigdata['che'] / bigdata['at']\n",
        "bigdata['working_cap'] = bigdata['invt'] + bigdata['rect'] - bigdata['ap']\n",
        "bigdata['ex_cash'] = bigdata['che'] - bigdata['working_cap']\n",
        "bigdata.head()"
      ],
      "execution_count": 7,
      "outputs": [
        {
          "output_type": "execute_result",
          "data": {
            "text/html": [
              "<div>\n",
              "<style scoped>\n",
              "    .dataframe tbody tr th:only-of-type {\n",
              "        vertical-align: middle;\n",
              "    }\n",
              "\n",
              "    .dataframe tbody tr th {\n",
              "        vertical-align: top;\n",
              "    }\n",
              "\n",
              "    .dataframe thead th {\n",
              "        text-align: right;\n",
              "    }\n",
              "</style>\n",
              "<table border=\"1\" class=\"dataframe\">\n",
              "  <thead>\n",
              "    <tr style=\"text-align: right;\">\n",
              "      <th></th>\n",
              "      <th>gvkey</th>\n",
              "      <th>datadate</th>\n",
              "      <th>fyear</th>\n",
              "      <th>tic</th>\n",
              "      <th>conm</th>\n",
              "      <th>fyr</th>\n",
              "      <th>ap</th>\n",
              "      <th>at</th>\n",
              "      <th>che</th>\n",
              "      <th>invt</th>\n",
              "      <th>ni</th>\n",
              "      <th>ppegt</th>\n",
              "      <th>rect</th>\n",
              "      <th>revt</th>\n",
              "      <th>exchg</th>\n",
              "      <th>scaled_cash</th>\n",
              "      <th>working_cap</th>\n",
              "      <th>ex_cash</th>\n",
              "    </tr>\n",
              "  </thead>\n",
              "  <tbody>\n",
              "    <tr>\n",
              "      <th>0</th>\n",
              "      <td>1004</td>\n",
              "      <td>1990-05-31</td>\n",
              "      <td>1989</td>\n",
              "      <td>AIR</td>\n",
              "      <td>AAR CORP</td>\n",
              "      <td>5</td>\n",
              "      <td>35.861</td>\n",
              "      <td>388.521</td>\n",
              "      <td>4.044</td>\n",
              "      <td>162.149</td>\n",
              "      <td>25.655</td>\n",
              "      <td>105.646</td>\n",
              "      <td>93.581</td>\n",
              "      <td>444.875</td>\n",
              "      <td>11.0</td>\n",
              "      <td>0.010409</td>\n",
              "      <td>219.869</td>\n",
              "      <td>-215.825</td>\n",
              "    </tr>\n",
              "    <tr>\n",
              "      <th>1</th>\n",
              "      <td>1004</td>\n",
              "      <td>1991-05-31</td>\n",
              "      <td>1990</td>\n",
              "      <td>AIR</td>\n",
              "      <td>AAR CORP</td>\n",
              "      <td>5</td>\n",
              "      <td>35.119</td>\n",
              "      <td>379.958</td>\n",
              "      <td>1.553</td>\n",
              "      <td>156.133</td>\n",
              "      <td>14.801</td>\n",
              "      <td>113.060</td>\n",
              "      <td>91.238</td>\n",
              "      <td>466.542</td>\n",
              "      <td>11.0</td>\n",
              "      <td>0.004087</td>\n",
              "      <td>212.252</td>\n",
              "      <td>-210.699</td>\n",
              "    </tr>\n",
              "    <tr>\n",
              "      <th>2</th>\n",
              "      <td>1004</td>\n",
              "      <td>1992-05-31</td>\n",
              "      <td>1991</td>\n",
              "      <td>AIR</td>\n",
              "      <td>AAR CORP</td>\n",
              "      <td>5</td>\n",
              "      <td>43.416</td>\n",
              "      <td>395.351</td>\n",
              "      <td>4.197</td>\n",
              "      <td>173.379</td>\n",
              "      <td>10.020</td>\n",
              "      <td>119.315</td>\n",
              "      <td>89.781</td>\n",
              "      <td>422.657</td>\n",
              "      <td>11.0</td>\n",
              "      <td>0.010616</td>\n",
              "      <td>219.744</td>\n",
              "      <td>-215.547</td>\n",
              "    </tr>\n",
              "    <tr>\n",
              "      <th>3</th>\n",
              "      <td>1004</td>\n",
              "      <td>1993-05-31</td>\n",
              "      <td>1992</td>\n",
              "      <td>AIR</td>\n",
              "      <td>AAR CORP</td>\n",
              "      <td>5</td>\n",
              "      <td>32.525</td>\n",
              "      <td>365.151</td>\n",
              "      <td>2.255</td>\n",
              "      <td>172.536</td>\n",
              "      <td>0.283</td>\n",
              "      <td>118.585</td>\n",
              "      <td>68.849</td>\n",
              "      <td>382.780</td>\n",
              "      <td>11.0</td>\n",
              "      <td>0.006176</td>\n",
              "      <td>208.860</td>\n",
              "      <td>-206.605</td>\n",
              "    </tr>\n",
              "    <tr>\n",
              "      <th>4</th>\n",
              "      <td>1004</td>\n",
              "      <td>1994-05-31</td>\n",
              "      <td>1993</td>\n",
              "      <td>AIR</td>\n",
              "      <td>AAR CORP</td>\n",
              "      <td>5</td>\n",
              "      <td>49.599</td>\n",
              "      <td>417.626</td>\n",
              "      <td>18.074</td>\n",
              "      <td>174.920</td>\n",
              "      <td>9.494</td>\n",
              "      <td>122.101</td>\n",
              "      <td>85.947</td>\n",
              "      <td>407.754</td>\n",
              "      <td>11.0</td>\n",
              "      <td>0.043278</td>\n",
              "      <td>211.268</td>\n",
              "      <td>-193.194</td>\n",
              "    </tr>\n",
              "  </tbody>\n",
              "</table>\n",
              "</div>"
            ],
            "text/plain": [
              "   gvkey   datadate  fyear  tic  ... exchg  scaled_cash  working_cap  ex_cash\n",
              "0   1004 1990-05-31   1989  AIR  ...  11.0     0.010409      219.869 -215.825\n",
              "1   1004 1991-05-31   1990  AIR  ...  11.0     0.004087      212.252 -210.699\n",
              "2   1004 1992-05-31   1991  AIR  ...  11.0     0.010616      219.744 -215.547\n",
              "3   1004 1993-05-31   1992  AIR  ...  11.0     0.006176      208.860 -206.605\n",
              "4   1004 1994-05-31   1993  AIR  ...  11.0     0.043278      211.268 -193.194\n",
              "\n",
              "[5 rows x 18 columns]"
            ]
          },
          "metadata": {
            "tags": []
          },
          "execution_count": 7
        }
      ]
    },
    {
      "cell_type": "markdown",
      "metadata": {
        "id": "S-ezc-algnJc",
        "colab_type": "text"
      },
      "source": [
        "Throwing out total assets less than 50 and scaled cash less than 0"
      ]
    },
    {
      "cell_type": "code",
      "metadata": {
        "id": "iG0PW37wdNY8",
        "colab_type": "code",
        "colab": {
          "base_uri": "https://localhost:8080/",
          "height": 408
        },
        "outputId": "6a967c83-c185-414d-91f0-9e273a25b8fe"
      },
      "source": [
        "bigdata = bigdata[(bigdata['at'] > 50)]\n",
        "bigdata = bigdata[(bigdata['scaled_cash'] > 0)]\n",
        "bigdata.info()"
      ],
      "execution_count": 8,
      "outputs": [
        {
          "output_type": "stream",
          "text": [
            "<class 'pandas.core.frame.DataFrame'>\n",
            "Int64Index: 83836 entries, 0 to 137963\n",
            "Data columns (total 18 columns):\n",
            "gvkey          83836 non-null int64\n",
            "datadate       83836 non-null datetime64[ns]\n",
            "fyear          83836 non-null int64\n",
            "tic            83836 non-null object\n",
            "conm           83836 non-null object\n",
            "fyr            83836 non-null int64\n",
            "ap             82777 non-null float64\n",
            "at             83836 non-null float64\n",
            "che            83836 non-null float64\n",
            "invt           82460 non-null float64\n",
            "ni             83694 non-null float64\n",
            "ppegt          69802 non-null float64\n",
            "rect           83175 non-null float64\n",
            "revt           83691 non-null float64\n",
            "exchg          83836 non-null float64\n",
            "scaled_cash    83836 non-null float64\n",
            "working_cap    80950 non-null float64\n",
            "ex_cash        80950 non-null float64\n",
            "dtypes: datetime64[ns](1), float64(12), int64(3), object(2)\n",
            "memory usage: 12.2+ MB\n"
          ],
          "name": "stdout"
        }
      ]
    },
    {
      "cell_type": "markdown",
      "metadata": {
        "id": "DQl6zD0pgjac",
        "colab_type": "text"
      },
      "source": [
        "Getting rid of null values"
      ]
    },
    {
      "cell_type": "code",
      "metadata": {
        "id": "HuPV895leZ1d",
        "colab_type": "code",
        "colab": {
          "base_uri": "https://localhost:8080/",
          "height": 408
        },
        "outputId": "4ccafb9c-050b-43a0-d378-da1a9f797ba1"
      },
      "source": [
        "bigdata.dropna(inplace = True)\n",
        "bigdata.info()"
      ],
      "execution_count": 9,
      "outputs": [
        {
          "output_type": "stream",
          "text": [
            "<class 'pandas.core.frame.DataFrame'>\n",
            "Int64Index: 67788 entries, 0 to 137963\n",
            "Data columns (total 18 columns):\n",
            "gvkey          67788 non-null int64\n",
            "datadate       67788 non-null datetime64[ns]\n",
            "fyear          67788 non-null int64\n",
            "tic            67788 non-null object\n",
            "conm           67788 non-null object\n",
            "fyr            67788 non-null int64\n",
            "ap             67788 non-null float64\n",
            "at             67788 non-null float64\n",
            "che            67788 non-null float64\n",
            "invt           67788 non-null float64\n",
            "ni             67788 non-null float64\n",
            "ppegt          67788 non-null float64\n",
            "rect           67788 non-null float64\n",
            "revt           67788 non-null float64\n",
            "exchg          67788 non-null float64\n",
            "scaled_cash    67788 non-null float64\n",
            "working_cap    67788 non-null float64\n",
            "ex_cash        67788 non-null float64\n",
            "dtypes: datetime64[ns](1), float64(12), int64(3), object(2)\n",
            "memory usage: 9.8+ MB\n"
          ],
          "name": "stdout"
        }
      ]
    },
    {
      "cell_type": "code",
      "metadata": {
        "id": "efq_hVryevf6",
        "colab_type": "code",
        "colab": {
          "base_uri": "https://localhost:8080/",
          "height": 170
        },
        "outputId": "3e2f468e-1806-4c14-e90d-2c56f2143c92"
      },
      "source": [
        "bigdata['scaled_cash'].describe()"
      ],
      "execution_count": 10,
      "outputs": [
        {
          "output_type": "execute_result",
          "data": {
            "text/plain": [
              "count    6.778800e+04\n",
              "mean     1.614069e-01\n",
              "std      2.041973e-01\n",
              "min      1.093842e-07\n",
              "25%      2.461522e-02\n",
              "50%      7.975663e-02\n",
              "75%      2.105218e-01\n",
              "max      1.000000e+00\n",
              "Name: scaled_cash, dtype: float64"
            ]
          },
          "metadata": {
            "tags": []
          },
          "execution_count": 10
        }
      ]
    },
    {
      "cell_type": "code",
      "metadata": {
        "id": "Qeyb2YWvhfSw",
        "colab_type": "code",
        "colab": {
          "base_uri": "https://localhost:8080/",
          "height": 170
        },
        "outputId": "507416c8-18b3-48e1-8f47-eaede2b2777f"
      },
      "source": [
        "bigdata['at'].describe()"
      ],
      "execution_count": 11,
      "outputs": [
        {
          "output_type": "execute_result",
          "data": {
            "text/plain": [
              "count    6.778800e+04\n",
              "mean     1.197275e+04\n",
              "std      7.109528e+04\n",
              "min      5.000400e+01\n",
              "25%      2.649620e+02\n",
              "50%      1.066019e+03\n",
              "75%      4.914779e+03\n",
              "max      3.418318e+06\n",
              "Name: at, dtype: float64"
            ]
          },
          "metadata": {
            "tags": []
          },
          "execution_count": 11
        }
      ]
    },
    {
      "cell_type": "code",
      "metadata": {
        "id": "qgl5iVqqhzPX",
        "colab_type": "code",
        "colab": {}
      },
      "source": [
        ""
      ],
      "execution_count": 0,
      "outputs": []
    }
  ]
}