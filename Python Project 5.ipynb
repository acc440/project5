{
  "nbformat": 4,
  "nbformat_minor": 0,
  "metadata": {
    "kernelspec": {
      "display_name": "Python 3",
      "language": "python",
      "name": "python3"
    },
    "language_info": {
      "codemirror_mode": {
        "name": "ipython",
        "version": 3
      },
      "file_extension": ".py",
      "mimetype": "text/x-python",
      "name": "python",
      "nbconvert_exporter": "python",
      "pygments_lexer": "ipython3",
      "version": "3.7.4"
    },
    "colab": {
      "name": "Python Project 5.ipynb",
      "provenance": [],
      "collapsed_sections": [],
      "toc_visible": true
    }
  },
  "cells": [
    {
      "cell_type": "code",
      "metadata": {
        "id": "mFtTZdEBSXWT",
        "colab_type": "code",
        "colab": {}
      },
      "source": [
        "import numpy as np\n",
        "import pandas as pd\n",
        "import matplotlib.pyplot as plt\n",
        "import seaborn as sns\n"
      ],
      "execution_count": 0,
      "outputs": []
    },
    {
      "cell_type": "markdown",
      "metadata": {
        "id": "q0DDL11gTM9A",
        "colab_type": "text"
      },
      "source": [
        "Here's the stuff that we need"
      ]
    },
    {
      "cell_type": "code",
      "metadata": {
        "id": "OWYy9r73ahFd",
        "colab_type": "code",
        "colab": {}
      },
      "source": [
        ""
      ],
      "execution_count": 0,
      "outputs": []
    },
    {
      "cell_type": "code",
      "metadata": {
        "id": "gu4YfVf_cUwu",
        "colab_type": "code",
        "colab": {}
      },
      "source": [
        "bigdata = pd.read_csv('https://raw.githubusercontent.com/acc440/project5/master/bigdata.csv?token=AO5O4XAW5AW6FYI6YE5MZZC6PGB5Y', parse_dates=['datadate'])"
      ],
      "execution_count": 0,
      "outputs": []
    },
    {
      "cell_type": "code",
      "metadata": {
        "id": "Ggg1l8fqc715",
        "colab_type": "code",
        "outputId": "b30d363f-d7c0-4ae7-b897-1ad7ad8193c4",
        "colab": {
          "base_uri": "https://localhost:8080/",
          "height": 357
        }
      },
      "source": [
        "bigdata.info()"
      ],
      "execution_count": 28,
      "outputs": [
        {
          "output_type": "stream",
          "text": [
            "<class 'pandas.core.frame.DataFrame'>\n",
            "RangeIndex: 137966 entries, 0 to 137965\n",
            "Data columns (total 15 columns):\n",
            "gvkey       137966 non-null int64\n",
            "datadate    137966 non-null datetime64[ns]\n",
            "fyear       137966 non-null int64\n",
            "tic         137871 non-null object\n",
            "conm        137966 non-null object\n",
            "fyr         137966 non-null int64\n",
            "ap          111703 non-null float64\n",
            "at          112805 non-null float64\n",
            "che         112729 non-null float64\n",
            "invt        111205 non-null float64\n",
            "ni          112429 non-null float64\n",
            "ppegt       97676 non-null float64\n",
            "rect        111866 non-null float64\n",
            "revt        112377 non-null float64\n",
            "exchg       137871 non-null float64\n",
            "dtypes: datetime64[ns](1), float64(9), int64(3), object(2)\n",
            "memory usage: 15.8+ MB\n"
          ],
          "name": "stdout"
        }
      ]
    },
    {
      "cell_type": "code",
      "metadata": {
        "id": "QMhBTnaOdDKB",
        "colab_type": "code",
        "outputId": "55e9a34b-14e3-4f62-db78-c3ed05560707",
        "colab": {
          "base_uri": "https://localhost:8080/",
          "height": 221
        }
      },
      "source": [
        "pd.to_datetime(bigdata['datadate'])"
      ],
      "execution_count": 29,
      "outputs": [
        {
          "output_type": "execute_result",
          "data": {
            "text/plain": [
              "0        1990-05-31\n",
              "1        1991-05-31\n",
              "2        1992-05-31\n",
              "3        1993-05-31\n",
              "4        1994-05-31\n",
              "            ...    \n",
              "137961   2016-12-31\n",
              "137962   2017-12-31\n",
              "137963   2018-12-31\n",
              "137964   2017-09-30\n",
              "137965   2018-09-30\n",
              "Name: datadate, Length: 137966, dtype: datetime64[ns]"
            ]
          },
          "metadata": {
            "tags": []
          },
          "execution_count": 29
        }
      ]
    },
    {
      "cell_type": "code",
      "metadata": {
        "id": "_k6tlvJZd3cu",
        "colab_type": "code",
        "outputId": "b2c37f17-e68c-4622-9e8f-0f795f21c0fd",
        "colab": {
          "base_uri": "https://localhost:8080/",
          "height": 357
        }
      },
      "source": [
        "bigdata.info()"
      ],
      "execution_count": 30,
      "outputs": [
        {
          "output_type": "stream",
          "text": [
            "<class 'pandas.core.frame.DataFrame'>\n",
            "RangeIndex: 137966 entries, 0 to 137965\n",
            "Data columns (total 15 columns):\n",
            "gvkey       137966 non-null int64\n",
            "datadate    137966 non-null datetime64[ns]\n",
            "fyear       137966 non-null int64\n",
            "tic         137871 non-null object\n",
            "conm        137966 non-null object\n",
            "fyr         137966 non-null int64\n",
            "ap          111703 non-null float64\n",
            "at          112805 non-null float64\n",
            "che         112729 non-null float64\n",
            "invt        111205 non-null float64\n",
            "ni          112429 non-null float64\n",
            "ppegt       97676 non-null float64\n",
            "rect        111866 non-null float64\n",
            "revt        112377 non-null float64\n",
            "exchg       137871 non-null float64\n",
            "dtypes: datetime64[ns](1), float64(9), int64(3), object(2)\n",
            "memory usage: 15.8+ MB\n"
          ],
          "name": "stdout"
        }
      ]
    },
    {
      "cell_type": "code",
      "metadata": {
        "id": "eOGliqYnd_9r",
        "colab_type": "code",
        "colab": {}
      },
      "source": [
        ""
      ],
      "execution_count": 0,
      "outputs": []
    }
  ]
}